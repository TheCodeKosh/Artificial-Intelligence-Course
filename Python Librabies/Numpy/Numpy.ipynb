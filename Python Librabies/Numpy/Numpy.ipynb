{
  "nbformat": 4,
  "nbformat_minor": 0,
  "metadata": {
    "colab": {
      "name": "Numpy.ipynb",
      "provenance": [],
      "collapsed_sections": []
    },
    "kernelspec": {
      "name": "python3",
      "display_name": "Python 3"
    }
  },
  "cells": [
    {
      "cell_type": "code",
      "metadata": {
        "id": "75_9Dh5CIM7I",
        "colab_type": "code",
        "colab": {}
      },
      "source": [
        "import numpy as np"
      ],
      "execution_count": null,
      "outputs": []
    },
    {
      "cell_type": "code",
      "metadata": {
        "id": "yH8crsaCK6P_",
        "colab_type": "code",
        "colab": {
          "base_uri": "https://localhost:8080/",
          "height": 68
        },
        "outputId": "a97a1b8d-34b5-4f28-f20d-c7bafd0565f3"
      },
      "source": [
        "x = np.array([[1,2,3], [4,5,6], [7,8,9]]) # 3x3 matrix\n",
        "print(x.ndim) \n",
        "print(x.shape)\n",
        "print(x.size) "
      ],
      "execution_count": null,
      "outputs": [
        {
          "output_type": "stream",
          "text": [
            "2\n",
            "(3, 3)\n",
            "9\n"
          ],
          "name": "stdout"
        }
      ]
    },
    {
      "cell_type": "code",
      "metadata": {
        "id": "kPCQ7EVOLKMN",
        "colab_type": "code",
        "colab": {
          "base_uri": "https://localhost:8080/",
          "height": 34
        },
        "outputId": "8cc4803b-8d4c-452c-f60d-16f8c159742c"
      },
      "source": [
        "a = np.array( [20,30,40,50] ) \n",
        "b = np.array( [1,2,3,4] ) \n",
        "c = a-b \n",
        "print(c)"
      ],
      "execution_count": null,
      "outputs": [
        {
          "output_type": "stream",
          "text": [
            "[19 28 37 46]\n"
          ],
          "name": "stdout"
        }
      ]
    },
    {
      "cell_type": "code",
      "metadata": {
        "id": "va8rmQKsLpHw",
        "colab_type": "code",
        "colab": {
          "base_uri": "https://localhost:8080/",
          "height": 102
        },
        "outputId": "4ebfe1b1-abdb-44b0-d295-a41b676fa2ac"
      },
      "source": [
        "x = np.array([1,2,3,4,5])\n",
        "median = np.median(x)\n",
        "print(median)\n",
        "sum = x.sum()\n",
        "sx = np.sin(x)\n",
        "cx=np.cos(x)\n",
        "tan=np.tan(x)\n",
        "print(sum)\n",
        "print(sx)\n",
        "print(cx)\n",
        "print(tan)"
      ],
      "execution_count": null,
      "outputs": [
        {
          "output_type": "stream",
          "text": [
            "3.0\n",
            "15\n",
            "[ 0.84147098  0.90929743  0.14112001 -0.7568025  -0.95892427]\n",
            "[ 0.54030231 -0.41614684 -0.9899925  -0.65364362  0.28366219]\n",
            "[ 1.55740772 -2.18503986 -0.14254654  1.15782128 -3.38051501]\n"
          ],
          "name": "stdout"
        }
      ]
    }
  ]
}