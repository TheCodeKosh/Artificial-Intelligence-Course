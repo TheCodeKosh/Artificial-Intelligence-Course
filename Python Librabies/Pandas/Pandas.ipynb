{
  "nbformat": 4,
  "nbformat_minor": 0,
  "metadata": {
    "colab": {
      "name": "Pandas.ipynb",
      "provenance": []
    },
    "kernelspec": {
      "name": "python3",
      "display_name": "Python 3"
    }
  },
  "cells": [
    {
      "cell_type": "code",
      "metadata": {
        "id": "expol6_0Nf1U"
      },
      "source": [
        "import pandas as pd"
      ],
      "execution_count": null,
      "outputs": []
    },
    {
      "cell_type": "markdown",
      "metadata": {
        "id": "mzCkxOIaSsuL"
      },
      "source": [
        "# Working with Series "
      ]
    },
    {
      "cell_type": "code",
      "metadata": {
        "id": "TP4THIC1R4UI",
        "outputId": "c146c21e-41e4-48e4-b279-2b9ee328a806",
        "colab": {
          "base_uri": "https://localhost:8080/",
          "height": 102
        }
      },
      "source": [
        "import pandas as pd\n",
        "import numpy as np\n",
        "data = np.array(['a','b','c','d'])\n",
        "s = pd.Series(data)\n",
        "print(s)"
      ],
      "execution_count": null,
      "outputs": [
        {
          "output_type": "stream",
          "text": [
            "0    a\n",
            "1    b\n",
            "2    c\n",
            "3    d\n",
            "dtype: object\n"
          ],
          "name": "stdout"
        }
      ]
    },
    {
      "cell_type": "code",
      "metadata": {
        "id": "ahhNP2Bfj40J",
        "outputId": "dbd3209d-e18d-41f8-bcde-0be7265b2c14",
        "colab": {
          "base_uri": "https://localhost:8080/",
          "height": 102
        }
      },
      "source": [
        "import pandas as pd\n",
        "import numpy as np\n",
        "data = np.array(['a','b','c','d'])\n",
        "s = pd.Series(data,index=[100,101,102,103])\n",
        "print(s)"
      ],
      "execution_count": 1,
      "outputs": [
        {
          "output_type": "stream",
          "text": [
            "100    a\n",
            "101    b\n",
            "102    c\n",
            "103    d\n",
            "dtype: object\n"
          ],
          "name": "stdout"
        }
      ]
    },
    {
      "cell_type": "code",
      "metadata": {
        "id": "D__GOaipkl1J",
        "outputId": "2bb295ba-1b0c-446c-b9f7-b37b3c574521",
        "colab": {
          "base_uri": "https://localhost:8080/",
          "height": 85
        }
      },
      "source": [
        "import pandas as pd\n",
        "import numpy as np\n",
        "data = {'a' : 0., 'b' : 1., 'c' : 2.}\n",
        "s = pd.Series(data)\n",
        "print(s)"
      ],
      "execution_count": null,
      "outputs": [
        {
          "output_type": "stream",
          "text": [
            "a    0.0\n",
            "b    1.0\n",
            "c    2.0\n",
            "dtype: float64\n"
          ],
          "name": "stdout"
        }
      ]
    },
    {
      "cell_type": "markdown",
      "metadata": {
        "id": "7sD8jn68SxHT"
      },
      "source": [
        "# Working With Data Frame"
      ]
    },
    {
      "cell_type": "code",
      "metadata": {
        "id": "J3y7KRm2SeDm",
        "outputId": "162569ba-e730-480c-e790-2febac318170",
        "colab": {
          "base_uri": "https://localhost:8080/",
          "height": 85
        }
      },
      "source": [
        "import pandas as pd\n",
        "data = [['Alex',10],['Bob',12],['Clarke',13]]\n",
        "df = pd.DataFrame(data,columns=['Name','Age'])\n",
        "print(df)"
      ],
      "execution_count": null,
      "outputs": [
        {
          "output_type": "stream",
          "text": [
            "     Name  Age\n",
            "0    Alex   10\n",
            "1     Bob   12\n",
            "2  Clarke   13\n"
          ],
          "name": "stdout"
        }
      ]
    },
    {
      "cell_type": "code",
      "metadata": {
        "id": "FIQvOjavSgHu",
        "outputId": "4acf3258-e316-4cc4-dfa2-ec6b21bd007b",
        "colab": {
          "base_uri": "https://localhost:8080/",
          "height": 85
        }
      },
      "source": [
        "import pandas as pd\n",
        "data = [['Alex',10],['Bob',12],['Clarke',13]]\n",
        "df = pd.DataFrame(data,columns=['Name','Age'],dtype=float)\n",
        "print(df)"
      ],
      "execution_count": null,
      "outputs": [
        {
          "output_type": "stream",
          "text": [
            "     Name   Age\n",
            "0    Alex  10.0\n",
            "1     Bob  12.0\n",
            "2  Clarke  13.0\n"
          ],
          "name": "stdout"
        }
      ]
    },
    {
      "cell_type": "code",
      "metadata": {
        "id": "rRZa3tieTEwz",
        "outputId": "11cd3b74-db1a-416d-cce8-0c1bb997de2c",
        "colab": {
          "base_uri": "https://localhost:8080/",
          "height": 102
        }
      },
      "source": [
        "import pandas as pd\n",
        "data = {'Name':['Tom', 'Jack', 'Steve', 'Ricky'],'Age':[28,34,29,30]}\n",
        "df = pd.DataFrame(data)\n",
        "print(df)"
      ],
      "execution_count": null,
      "outputs": [
        {
          "output_type": "stream",
          "text": [
            "    Name  Age\n",
            "0    Tom   28\n",
            "1   Jack   34\n",
            "2  Steve   29\n",
            "3  Ricky   30\n"
          ],
          "name": "stdout"
        }
      ]
    },
    {
      "cell_type": "code",
      "metadata": {
        "id": "nqaZwT3ZSQbF",
        "outputId": "6db7d86c-9514-4ee6-fd74-56b8ebe7725e",
        "colab": {
          "base_uri": "https://localhost:8080/",
          "height": 34
        }
      },
      "source": [
        "type(df)"
      ],
      "execution_count": null,
      "outputs": [
        {
          "output_type": "execute_result",
          "data": {
            "text/plain": [
              "pandas.core.frame.DataFrame"
            ]
          },
          "metadata": {
            "tags": []
          },
          "execution_count": 19
        }
      ]
    },
    {
      "cell_type": "code",
      "metadata": {
        "id": "tEnglwbc1T_z",
        "outputId": "1b7ed331-3c8b-42bc-a8f0-821e4235d5a4",
        "colab": {
          "base_uri": "https://localhost:8080/",
          "height": 685
        }
      },
      "source": [
        "import pandas as pd\n",
        "data=pd.read_csv('/content/datasets_air_quality_Nov2017.csv')\n",
        "data.head(10)"
      ],
      "execution_count": null,
      "outputs": [
        {
          "output_type": "execute_result",
          "data": {
            "text/html": [
              "<div>\n",
              "<style scoped>\n",
              "    .dataframe tbody tr th:only-of-type {\n",
              "        vertical-align: middle;\n",
              "    }\n",
              "\n",
              "    .dataframe tbody tr th {\n",
              "        vertical-align: top;\n",
              "    }\n",
              "\n",
              "    .dataframe thead th {\n",
              "        text-align: right;\n",
              "    }\n",
              "</style>\n",
              "<table border=\"1\" class=\"dataframe\">\n",
              "  <thead>\n",
              "    <tr style=\"text-align: right;\">\n",
              "      <th></th>\n",
              "      <th>Station</th>\n",
              "      <th>Air Quality</th>\n",
              "      <th>Longitude</th>\n",
              "      <th>Latitude</th>\n",
              "      <th>O3 Hour</th>\n",
              "      <th>O3 Quality</th>\n",
              "      <th>O3 Value</th>\n",
              "      <th>NO2 Hour</th>\n",
              "      <th>NO2 Quality</th>\n",
              "      <th>NO2 Value</th>\n",
              "      <th>PM10 Hour</th>\n",
              "      <th>PM10 Quality</th>\n",
              "      <th>PM10 Value</th>\n",
              "      <th>Generated</th>\n",
              "      <th>Date Time</th>\n",
              "    </tr>\n",
              "  </thead>\n",
              "  <tbody>\n",
              "    <tr>\n",
              "      <th>0</th>\n",
              "      <td>Barcelona - Sants</td>\n",
              "      <td>Good</td>\n",
              "      <td>2.1331</td>\n",
              "      <td>41.3788</td>\n",
              "      <td>NaN</td>\n",
              "      <td>NaN</td>\n",
              "      <td>NaN</td>\n",
              "      <td>0h</td>\n",
              "      <td>Good</td>\n",
              "      <td>84.0</td>\n",
              "      <td>NaN</td>\n",
              "      <td>NaN</td>\n",
              "      <td>NaN</td>\n",
              "      <td>01/11/2018 0:00</td>\n",
              "      <td>1541027104</td>\n",
              "    </tr>\n",
              "    <tr>\n",
              "      <th>1</th>\n",
              "      <td>Barcelona - Eixample</td>\n",
              "      <td>Moderate</td>\n",
              "      <td>2.1538</td>\n",
              "      <td>41.3853</td>\n",
              "      <td>0h</td>\n",
              "      <td>Good</td>\n",
              "      <td>1.0</td>\n",
              "      <td>0h</td>\n",
              "      <td>Moderate</td>\n",
              "      <td>113.0</td>\n",
              "      <td>0h</td>\n",
              "      <td>Good</td>\n",
              "      <td>36.0</td>\n",
              "      <td>01/11/2018 0:00</td>\n",
              "      <td>1541027104</td>\n",
              "    </tr>\n",
              "    <tr>\n",
              "      <th>2</th>\n",
              "      <td>Barcelona - Gràcia</td>\n",
              "      <td>Good</td>\n",
              "      <td>2.1534</td>\n",
              "      <td>41.3987</td>\n",
              "      <td>0h</td>\n",
              "      <td>Good</td>\n",
              "      <td>10.0</td>\n",
              "      <td>0h</td>\n",
              "      <td>Good</td>\n",
              "      <td>73.0</td>\n",
              "      <td>NaN</td>\n",
              "      <td>NaN</td>\n",
              "      <td>NaN</td>\n",
              "      <td>01/11/2018 0:00</td>\n",
              "      <td>1541027104</td>\n",
              "    </tr>\n",
              "    <tr>\n",
              "      <th>3</th>\n",
              "      <td>Barcelona - Ciutadella</td>\n",
              "      <td>Good</td>\n",
              "      <td>2.1874</td>\n",
              "      <td>41.3864</td>\n",
              "      <td>0h</td>\n",
              "      <td>Good</td>\n",
              "      <td>2.0</td>\n",
              "      <td>0h</td>\n",
              "      <td>Good</td>\n",
              "      <td>86.0</td>\n",
              "      <td>NaN</td>\n",
              "      <td>NaN</td>\n",
              "      <td>NaN</td>\n",
              "      <td>01/11/2018 0:00</td>\n",
              "      <td>1541027104</td>\n",
              "    </tr>\n",
              "    <tr>\n",
              "      <th>4</th>\n",
              "      <td>Barcelona - Vall Hebron</td>\n",
              "      <td>Good</td>\n",
              "      <td>2.1480</td>\n",
              "      <td>41.4261</td>\n",
              "      <td>0h</td>\n",
              "      <td>Good</td>\n",
              "      <td>7.0</td>\n",
              "      <td>0h</td>\n",
              "      <td>Good</td>\n",
              "      <td>69.0</td>\n",
              "      <td>NaN</td>\n",
              "      <td>NaN</td>\n",
              "      <td>NaN</td>\n",
              "      <td>01/11/2018 0:00</td>\n",
              "      <td>1541027104</td>\n",
              "    </tr>\n",
              "    <tr>\n",
              "      <th>5</th>\n",
              "      <td>Barcelona - Palau Reial</td>\n",
              "      <td>Good</td>\n",
              "      <td>2.1151</td>\n",
              "      <td>41.3875</td>\n",
              "      <td>23h</td>\n",
              "      <td>Good</td>\n",
              "      <td>11.0</td>\n",
              "      <td>23h</td>\n",
              "      <td>Good</td>\n",
              "      <td>57.0</td>\n",
              "      <td>23h</td>\n",
              "      <td>Good</td>\n",
              "      <td>23.0</td>\n",
              "      <td>01/11/2018 0:00</td>\n",
              "      <td>1541027104</td>\n",
              "    </tr>\n",
              "    <tr>\n",
              "      <th>6</th>\n",
              "      <td>Barcelona - Poblenou</td>\n",
              "      <td>Good</td>\n",
              "      <td>2.2045</td>\n",
              "      <td>41.4039</td>\n",
              "      <td>NaN</td>\n",
              "      <td>NaN</td>\n",
              "      <td>NaN</td>\n",
              "      <td>23h</td>\n",
              "      <td>Good</td>\n",
              "      <td>86.0</td>\n",
              "      <td>23h</td>\n",
              "      <td>Good</td>\n",
              "      <td>32.0</td>\n",
              "      <td>01/11/2018 0:00</td>\n",
              "      <td>1541027104</td>\n",
              "    </tr>\n",
              "    <tr>\n",
              "      <th>7</th>\n",
              "      <td>Barcelona - Observ Fabra</td>\n",
              "      <td>Good</td>\n",
              "      <td>2.1239</td>\n",
              "      <td>41.4183</td>\n",
              "      <td>23h</td>\n",
              "      <td>Good</td>\n",
              "      <td>58.0</td>\n",
              "      <td>23h</td>\n",
              "      <td>Good</td>\n",
              "      <td>3.0</td>\n",
              "      <td>23h</td>\n",
              "      <td>Good</td>\n",
              "      <td>25.0</td>\n",
              "      <td>01/11/2018 0:00</td>\n",
              "      <td>1541027104</td>\n",
              "    </tr>\n",
              "    <tr>\n",
              "      <th>8</th>\n",
              "      <td>Barcelona - Sants</td>\n",
              "      <td>Good</td>\n",
              "      <td>2.1331</td>\n",
              "      <td>41.3788</td>\n",
              "      <td>NaN</td>\n",
              "      <td>NaN</td>\n",
              "      <td>NaN</td>\n",
              "      <td>0h</td>\n",
              "      <td>Good</td>\n",
              "      <td>62.0</td>\n",
              "      <td>NaN</td>\n",
              "      <td>NaN</td>\n",
              "      <td>NaN</td>\n",
              "      <td>01/11/2018 1:00</td>\n",
              "      <td>1541030725</td>\n",
              "    </tr>\n",
              "    <tr>\n",
              "      <th>9</th>\n",
              "      <td>Barcelona - Eixample</td>\n",
              "      <td>Good</td>\n",
              "      <td>2.1538</td>\n",
              "      <td>41.3853</td>\n",
              "      <td>0h</td>\n",
              "      <td>Good</td>\n",
              "      <td>6.0</td>\n",
              "      <td>0h</td>\n",
              "      <td>Good</td>\n",
              "      <td>80.0</td>\n",
              "      <td>1h</td>\n",
              "      <td>Good</td>\n",
              "      <td>35.0</td>\n",
              "      <td>01/11/2018 1:00</td>\n",
              "      <td>1541030725</td>\n",
              "    </tr>\n",
              "  </tbody>\n",
              "</table>\n",
              "</div>"
            ],
            "text/plain": [
              "                    Station Air Quality  ...        Generated   Date Time\n",
              "0         Barcelona - Sants        Good  ...  01/11/2018 0:00  1541027104\n",
              "1      Barcelona - Eixample    Moderate  ...  01/11/2018 0:00  1541027104\n",
              "2        Barcelona - Gràcia        Good  ...  01/11/2018 0:00  1541027104\n",
              "3    Barcelona - Ciutadella        Good  ...  01/11/2018 0:00  1541027104\n",
              "4   Barcelona - Vall Hebron        Good  ...  01/11/2018 0:00  1541027104\n",
              "5   Barcelona - Palau Reial        Good  ...  01/11/2018 0:00  1541027104\n",
              "6      Barcelona - Poblenou        Good  ...  01/11/2018 0:00  1541027104\n",
              "7  Barcelona - Observ Fabra        Good  ...  01/11/2018 0:00  1541027104\n",
              "8         Barcelona - Sants        Good  ...  01/11/2018 1:00  1541030725\n",
              "9      Barcelona - Eixample        Good  ...  01/11/2018 1:00  1541030725\n",
              "\n",
              "[10 rows x 15 columns]"
            ]
          },
          "metadata": {
            "tags": []
          },
          "execution_count": 20
        }
      ]
    },
    {
      "cell_type": "code",
      "metadata": {
        "id": "QduvIIEGZJEM",
        "outputId": "5f0e6b8e-51ff-4871-f7a1-26fd7b2e3a30",
        "colab": {
          "base_uri": "https://localhost:8080/",
          "height": 377
        }
      },
      "source": [
        "data.head()"
      ],
      "execution_count": null,
      "outputs": [
        {
          "output_type": "execute_result",
          "data": {
            "text/html": [
              "<div>\n",
              "<style scoped>\n",
              "    .dataframe tbody tr th:only-of-type {\n",
              "        vertical-align: middle;\n",
              "    }\n",
              "\n",
              "    .dataframe tbody tr th {\n",
              "        vertical-align: top;\n",
              "    }\n",
              "\n",
              "    .dataframe thead th {\n",
              "        text-align: right;\n",
              "    }\n",
              "</style>\n",
              "<table border=\"1\" class=\"dataframe\">\n",
              "  <thead>\n",
              "    <tr style=\"text-align: right;\">\n",
              "      <th></th>\n",
              "      <th>Station</th>\n",
              "      <th>Air Quality</th>\n",
              "      <th>Longitude</th>\n",
              "      <th>Latitude</th>\n",
              "      <th>O3 Hour</th>\n",
              "      <th>O3 Quality</th>\n",
              "      <th>O3 Value</th>\n",
              "      <th>NO2 Hour</th>\n",
              "      <th>NO2 Quality</th>\n",
              "      <th>NO2 Value</th>\n",
              "      <th>PM10 Hour</th>\n",
              "      <th>PM10 Quality</th>\n",
              "      <th>PM10 Value</th>\n",
              "      <th>Generated</th>\n",
              "      <th>Date Time</th>\n",
              "    </tr>\n",
              "  </thead>\n",
              "  <tbody>\n",
              "    <tr>\n",
              "      <th>0</th>\n",
              "      <td>Barcelona - Sants</td>\n",
              "      <td>Good</td>\n",
              "      <td>2.1331</td>\n",
              "      <td>41.3788</td>\n",
              "      <td>NaN</td>\n",
              "      <td>NaN</td>\n",
              "      <td>NaN</td>\n",
              "      <td>0h</td>\n",
              "      <td>Good</td>\n",
              "      <td>84.0</td>\n",
              "      <td>NaN</td>\n",
              "      <td>NaN</td>\n",
              "      <td>NaN</td>\n",
              "      <td>01/11/2018 0:00</td>\n",
              "      <td>1541027104</td>\n",
              "    </tr>\n",
              "    <tr>\n",
              "      <th>1</th>\n",
              "      <td>Barcelona - Eixample</td>\n",
              "      <td>Moderate</td>\n",
              "      <td>2.1538</td>\n",
              "      <td>41.3853</td>\n",
              "      <td>0h</td>\n",
              "      <td>Good</td>\n",
              "      <td>1.0</td>\n",
              "      <td>0h</td>\n",
              "      <td>Moderate</td>\n",
              "      <td>113.0</td>\n",
              "      <td>0h</td>\n",
              "      <td>Good</td>\n",
              "      <td>36.0</td>\n",
              "      <td>01/11/2018 0:00</td>\n",
              "      <td>1541027104</td>\n",
              "    </tr>\n",
              "    <tr>\n",
              "      <th>2</th>\n",
              "      <td>Barcelona - Gràcia</td>\n",
              "      <td>Good</td>\n",
              "      <td>2.1534</td>\n",
              "      <td>41.3987</td>\n",
              "      <td>0h</td>\n",
              "      <td>Good</td>\n",
              "      <td>10.0</td>\n",
              "      <td>0h</td>\n",
              "      <td>Good</td>\n",
              "      <td>73.0</td>\n",
              "      <td>NaN</td>\n",
              "      <td>NaN</td>\n",
              "      <td>NaN</td>\n",
              "      <td>01/11/2018 0:00</td>\n",
              "      <td>1541027104</td>\n",
              "    </tr>\n",
              "    <tr>\n",
              "      <th>3</th>\n",
              "      <td>Barcelona - Ciutadella</td>\n",
              "      <td>Good</td>\n",
              "      <td>2.1874</td>\n",
              "      <td>41.3864</td>\n",
              "      <td>0h</td>\n",
              "      <td>Good</td>\n",
              "      <td>2.0</td>\n",
              "      <td>0h</td>\n",
              "      <td>Good</td>\n",
              "      <td>86.0</td>\n",
              "      <td>NaN</td>\n",
              "      <td>NaN</td>\n",
              "      <td>NaN</td>\n",
              "      <td>01/11/2018 0:00</td>\n",
              "      <td>1541027104</td>\n",
              "    </tr>\n",
              "    <tr>\n",
              "      <th>4</th>\n",
              "      <td>Barcelona - Vall Hebron</td>\n",
              "      <td>Good</td>\n",
              "      <td>2.1480</td>\n",
              "      <td>41.4261</td>\n",
              "      <td>0h</td>\n",
              "      <td>Good</td>\n",
              "      <td>7.0</td>\n",
              "      <td>0h</td>\n",
              "      <td>Good</td>\n",
              "      <td>69.0</td>\n",
              "      <td>NaN</td>\n",
              "      <td>NaN</td>\n",
              "      <td>NaN</td>\n",
              "      <td>01/11/2018 0:00</td>\n",
              "      <td>1541027104</td>\n",
              "    </tr>\n",
              "  </tbody>\n",
              "</table>\n",
              "</div>"
            ],
            "text/plain": [
              "                   Station Air Quality  ...        Generated   Date Time\n",
              "0        Barcelona - Sants        Good  ...  01/11/2018 0:00  1541027104\n",
              "1     Barcelona - Eixample    Moderate  ...  01/11/2018 0:00  1541027104\n",
              "2       Barcelona - Gràcia        Good  ...  01/11/2018 0:00  1541027104\n",
              "3   Barcelona - Ciutadella        Good  ...  01/11/2018 0:00  1541027104\n",
              "4  Barcelona - Vall Hebron        Good  ...  01/11/2018 0:00  1541027104\n",
              "\n",
              "[5 rows x 15 columns]"
            ]
          },
          "metadata": {
            "tags": []
          },
          "execution_count": 21
        }
      ]
    },
    {
      "cell_type": "code",
      "metadata": {
        "id": "lgf6-TA-V7Jr",
        "outputId": "673121f1-f4f8-4570-b2f9-075f0e76a531",
        "colab": {
          "base_uri": "https://localhost:8080/",
          "height": 34
        }
      },
      "source": [
        "data.shape"
      ],
      "execution_count": null,
      "outputs": [
        {
          "output_type": "execute_result",
          "data": {
            "text/plain": [
              "(5744, 15)"
            ]
          },
          "metadata": {
            "tags": []
          },
          "execution_count": 22
        }
      ]
    }
  ]
}